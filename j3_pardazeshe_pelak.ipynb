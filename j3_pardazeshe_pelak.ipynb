{
 "cells": [
  {
   "cell_type": "code",
   "execution_count": 11,
   "metadata": {},
   "outputs": [],
   "source": [
    "import cv2\n",
    "import os\n",
    "import numpy as np\n",
    "import matplotlib.pyplot as plt\n",
    "%matplotlib widget"
   ]
  },
  {
   "cell_type": "code",
   "execution_count": 3,
   "metadata": {},
   "outputs": [
    {
     "name": "stderr",
     "output_type": "stream",
     "text": [
      "[ WARN:0@5.691] global loadsave.cpp:244 findDecoder imread_('2/22.jpg'): can't open/read file: check file path/integrity\n"
     ]
    }
   ],
   "source": [
    "im = cv2.imread('2/22.jpg')"
   ]
  },
  {
   "cell_type": "code",
   "execution_count": 54,
   "metadata": {},
   "outputs": [],
   "source": [
    "cv2.imshow('ax',im)\n",
    "cv2.waitKey(0)\n",
    "cv2.destroyAllWindows()"
   ]
  },
  {
   "cell_type": "code",
   "execution_count": 81,
   "metadata": {},
   "outputs": [],
   "source": [
    "xfiles = os.listdir('1')"
   ]
  },
  {
   "cell_type": "code",
   "execution_count": 13,
   "metadata": {},
   "outputs": [
    {
     "name": "stdout",
     "output_type": "stream",
     "text": [
      "['3222.jpg', '3236.jpg', '348.jpg', '360.jpg', '374.jpg', '3168.jpg', '3154.jpg', '3140.jpg', '3197.jpg', '3183.jpg', '3342.jpg', '3343.jpg', '3182.jpg', '3196.jpg', '3141.jpg', '3155.jpg', '3169.jpg', '375.jpg', '361.jpg', '349.jpg', '3237.jpg', '3223.jpg', '3209.jpg', '3235.jpg', '3221.jpg', '388.jpg', '377.jpg', '363.jpg', '3143.jpg', '3157.jpg', '3180.jpg', '3194.jpg', '3341.jpg', '3340.jpg', '3195.jpg', '3181.jpg', '3156.jpg', '3142.jpg', '362.jpg', '376.jpg', '389.jpg', '3220.jpg', '3234.jpg', '3208.jpg', '3230.jpg', '3224.jpg', '3218.jpg', '399.jpg', '372.jpg', '366.jpg', '3146.jpg', '3152.jpg', '3185.jpg', '3191.jpg', '3344.jpg', '3345.jpg', '3190.jpg', '3184.jpg', '3153.jpg', '3147.jpg', '367.jpg', '373.jpg', '398.jpg', '3219.jpg', '3225.jpg', '3231.jpg', '3227.jpg', '3233.jpg', '365.jpg', '371.jpg', '359.jpg', '3151.jpg', '3145.jpg', '3179.jpg', '3192.jpg', '3186.jpg', '3346.jpg', '3187.jpg', '3193.jpg', '3178.jpg', '3144.jpg', '3150.jpg', '358.jpg', '370.jpg', '364.jpg', '3232.jpg', '3226.jpg', '3269.jpg', '3241.jpg', '3255.jpg', '3282.jpg', '3296.jpg', '317.jpg', '3137.jpg', '3123.jpg', '3309.jpg', '3335.jpg', '3321.jpg', '3320.jpg', '3334.jpg', '3308.jpg', '3122.jpg', '3136.jpg', '316.jpg', '3297.jpg', '3283.jpg', '3254.jpg', '3240.jpg', '3268.jpg', '3256.jpg', '3242.jpg', '3295.jpg', '3281.jpg', '328.jpg', '314.jpg', '3108.jpg', '3120.jpg', '3134.jpg', '3322.jpg', '3336.jpg', '3337.jpg', '3323.jpg', '3135.jpg', '3121.jpg', '3109.jpg', '315.jpg', '329.jpg', '3280.jpg', '3294.jpg', '3243.jpg', '3257.jpg', '3253.jpg', '3247.jpg', '3290.jpg', '3284.jpg', '311.jpg', '339.jpg', '3125.jpg', '3131.jpg', '3119.jpg', '3327.jpg', '3333.jpg', '3332.jpg', '3326.jpg', '3118.jpg', '3130.jpg', '3124.jpg', '338.jpg', '310.jpg', '3285.jpg', '3291.jpg', '3246.jpg', '3252.jpg', '39.jpg', '3244.jpg', '3250.jpg', '3278.jpg', '3287.jpg', '3293.jpg', '312.jpg', '3132.jpg', '3126.jpg', '3330.jpg', '3324.jpg', '3318.jpg', '3319.jpg', '3325.jpg', '3331.jpg', '3127.jpg', '3133.jpg', '313.jpg', '3292.jpg', '3286.jpg', '3279.jpg', '3251.jpg', '38.jpg', '3245.jpg', '35.jpg', '3248.jpg', '3260.jpg', '3274.jpg', '322.jpg', '336.jpg', '3116.jpg', '3102.jpg', '3328.jpg', '3314.jpg', '3300.jpg', '3301.jpg', '3315.jpg', '3329.jpg', '3103.jpg', '3117.jpg', '337.jpg', '323.jpg', '3275.jpg', '3261.jpg', '34.jpg', '3249.jpg', '36.jpg', '3277.jpg', '3263.jpg', '3288.jpg', '335.jpg', '321.jpg', '3129.jpg', '3101.jpg', '3115.jpg', '3303.jpg', '3317.jpg', '3316.jpg', '3302.jpg', '3114.jpg', '3100.jpg', '3128.jpg', '320.jpg', '334.jpg', '3289.jpg', '3262.jpg', '3276.jpg', '37.jpg', '3272.jpg', '3266.jpg', '33.jpg', '3299.jpg', '330.jpg', '324.jpg', '318.jpg', '3104.jpg', '3110.jpg', '3138.jpg', '3306.jpg', '3312.jpg', '3313.jpg', '3307.jpg', '3139.jpg', '3111.jpg', '3105.jpg', '319.jpg', '325.jpg', '331.jpg', '3298.jpg', '32.jpg', '3267.jpg', '3273.jpg', '3265.jpg', '3271.jpg', '3259.jpg', '327.jpg', '333.jpg', '3113.jpg', '3107.jpg', '3311.jpg', '3305.jpg', '3339.jpg', '3338.jpg', '3304.jpg', '3310.jpg', '3106.jpg', '3112.jpg', '332.jpg', '326.jpg', '31.jpg', '3258.jpg', '3270.jpg', '3264.jpg', '3203.jpg', '3217.jpg', '382.jpg', '396.jpg', '369.jpg', '341.jpg', '355.jpg', '3149.jpg', '3175.jpg', '3161.jpg', '3160.jpg', '3174.jpg', '3148.jpg', '354.jpg', '340.jpg', '368.jpg', '397.jpg', '383.jpg', '3216.jpg', '3202.jpg', '3228.jpg', '3214.jpg', '3200.jpg', '395.jpg', '381.jpg', '356.jpg', '342.jpg', '3162.jpg', '3176.jpg', '3189.jpg', '3188.jpg', '3177.jpg', '3163.jpg', '343.jpg', '357.jpg', '380.jpg', '394.jpg', '3201.jpg', '3215.jpg', '3229.jpg', '3211.jpg', '3205.jpg', '3239.jpg', '390.jpg', '384.jpg', '353.jpg', '347.jpg', '3167.jpg', '3173.jpg', '3198.jpg', '3199.jpg', '3172.jpg', '3166.jpg', '346.jpg', '352.jpg', '385.jpg', '391.jpg', '3238.jpg', '3204.jpg', '3210.jpg', '3206.jpg', '3212.jpg', '387.jpg', '393.jpg', '344.jpg', '350.jpg', '378.jpg', '3170.jpg', '3164.jpg', '3158.jpg', '3159.jpg', '3165.jpg', '3171.jpg', '379.jpg', '351.jpg', '345.jpg', '392.jpg', '386.jpg', '3213.jpg', '3207.jpg']\n"
     ]
    }
   ],
   "source": [
    "print(files)"
   ]
  },
  {
   "cell_type": "code",
   "execution_count": 44,
   "metadata": {},
   "outputs": [],
   "source": [
    "im2 = cv2.resize(im,(8,32))"
   ]
  },
  {
   "cell_type": "code",
   "execution_count": 38,
   "metadata": {},
   "outputs": [
    {
     "data": {
      "text/plain": [
       "(32, 8, 3)"
      ]
     },
     "execution_count": 38,
     "metadata": {},
     "output_type": "execute_result"
    }
   ],
   "source": [
    "im2.shape"
   ]
  },
  {
   "cell_type": "code",
   "execution_count": 45,
   "metadata": {},
   "outputs": [],
   "source": [
    "#chon range axhamun baramun ahamiyati nadare pas hamaro GRAY mikonim ke daqiq tar bashe barnamamun\n",
    "\n",
    "im3 = cv2.cvtColor(im2,cv2.COLOR_BGR2GRAY)"
   ]
  },
  {
   "cell_type": "code",
   "execution_count": 41,
   "metadata": {},
   "outputs": [
    {
     "data": {
      "text/plain": [
       "(32, 8)"
      ]
     },
     "execution_count": 41,
     "metadata": {},
     "output_type": "execute_result"
    }
   ],
   "source": [
    "im3.shape"
   ]
  },
  {
   "cell_type": "code",
   "execution_count": 46,
   "metadata": {},
   "outputs": [
    {
     "name": "stdout",
     "output_type": "stream",
     "text": [
      "[[ 29  35  34  36  44  36  40  37]\n",
      " [165 164 163 168 160 163 159 158]\n",
      " [175 179 177 175 172 174 175 176]\n",
      " [175 160 174 175 175 175 177 182]\n",
      " [170  42 170 178 178 181 142  50]\n",
      " [182  48 132 180 179 172  46  52]\n",
      " [157  53  72 175 179 187  53  39]\n",
      " [ 45  54  39 160 172 146  52  63]\n",
      " [ 39  52  63 141 198  55  56 119]\n",
      " [ 41  52  53  39  49  47  54 164]\n",
      " [ 41  54  51  57  50  55  47 182]\n",
      " [130  52  52  52  55  55  44 186]\n",
      " [159  53  56  53  56  62 157 183]\n",
      " [174  37  55  50  48  83 187 186]\n",
      " [178  33  54  46 129 188 183 186]\n",
      " [174  31  53  52 184 184 184 186]\n",
      " [173  65  52  73 186 184 185 186]\n",
      " [174  90  52  53 190 186 186 186]\n",
      " [186 110  60  56 187 186 186 186]\n",
      " [177 122  58  75 187 186 186 186]\n",
      " [185 124  56  70 189 186 187 187]\n",
      " [182 131  57  70 189 186 186 185]\n",
      " [183 121  56  87 189 185 185 186]\n",
      " [183 113  54 102 187 185 185 185]\n",
      " [183  98  57 118 187 185 185 185]\n",
      " [184  81  62 129 185 185 185 185]\n",
      " [184  65  51 145 184 184 185 185]\n",
      " [184 147 129 182 183 184 185 185]\n",
      " [183 184 182 184 184 183 184 183]\n",
      " [181 183 180 181 183 184 177 178]\n",
      " [184 186 179 183 181 185 171 177]\n",
      " [132 141 158 137 136 135 141 154]]\n"
     ]
    }
   ],
   "source": [
    "print(im3)"
   ]
  },
  {
   "cell_type": "code",
   "execution_count": 49,
   "metadata": {},
   "outputs": [],
   "source": [
    "im4 = im3.reshape(256)\n",
    "#im4 = im3.flatten()"
   ]
  },
  {
   "cell_type": "code",
   "execution_count": 50,
   "metadata": {},
   "outputs": [
    {
     "name": "stdout",
     "output_type": "stream",
     "text": [
      "[ 29  35  34  36  44  36  40  37 165 164 163 168 160 163 159 158 175 179\n",
      " 177 175 172 174 175 176 175 160 174 175 175 175 177 182 170  42 170 178\n",
      " 178 181 142  50 182  48 132 180 179 172  46  52 157  53  72 175 179 187\n",
      "  53  39  45  54  39 160 172 146  52  63  39  52  63 141 198  55  56 119\n",
      "  41  52  53  39  49  47  54 164  41  54  51  57  50  55  47 182 130  52\n",
      "  52  52  55  55  44 186 159  53  56  53  56  62 157 183 174  37  55  50\n",
      "  48  83 187 186 178  33  54  46 129 188 183 186 174  31  53  52 184 184\n",
      " 184 186 173  65  52  73 186 184 185 186 174  90  52  53 190 186 186 186\n",
      " 186 110  60  56 187 186 186 186 177 122  58  75 187 186 186 186 185 124\n",
      "  56  70 189 186 187 187 182 131  57  70 189 186 186 185 183 121  56  87\n",
      " 189 185 185 186 183 113  54 102 187 185 185 185 183  98  57 118 187 185\n",
      " 185 185 184  81  62 129 185 185 185 185 184  65  51 145 184 184 185 185\n",
      " 184 147 129 182 183 184 185 185 183 184 182 184 184 183 184 183 181 183\n",
      " 180 181 183 184 177 178 184 186 179 183 181 185 171 177 132 141 158 137\n",
      " 136 135 141 154]\n"
     ]
    }
   ],
   "source": [
    "print(im4)"
   ]
  },
  {
   "cell_type": "code",
   "execution_count": 51,
   "metadata": {},
   "outputs": [
    {
     "data": {
      "text/plain": [
       "(256,)"
      ]
     },
     "execution_count": 51,
     "metadata": {},
     "output_type": "execute_result"
    }
   ],
   "source": [
    "\n",
    "im4.shape"
   ]
  },
  {
   "cell_type": "code",
   "execution_count": 55,
   "metadata": {},
   "outputs": [],
   "source": [
    "\n",
    "#im5 = im4.reshape(32,8)\n",
    "#print(im5)"
   ]
  },
  {
   "cell_type": "code",
   "execution_count": 3,
   "metadata": {},
   "outputs": [],
   "source": [
    "files = os.listdir('1')\n",
    "\n",
    "x = np.empty((0,256))\n",
    "\n",
    "y = np.array([])\n",
    "\n",
    "for file_name in files:\n",
    "    im = cv2.imread('1/' + file_name)\n",
    "    im2 = cv2.resize(im,(8,32))\n",
    "    im3 = cv2.cvtColor(im2,cv2.COLOR_BGR2GRAY)\n",
    "    im4 = im3.reshape(256)\n",
    "    x=np.append(x,[im4],axis=0)\n",
    "    y=np.append(y,'1')"
   ]
  },
  {
   "cell_type": "code",
   "execution_count": 103,
   "metadata": {},
   "outputs": [],
   "source": [
    "\n",
    "x = np.empty((0,192))\n",
    "y = np.array([])\n",
    "\n",
    "for k in range(1,10):\n",
    "    files = os.listdir(str(k))\n",
    "    for file_name in files:\n",
    "        im = cv2.imread(str(k) + '/' + file_name)\n",
    "        im2 = cv2.resize(im,(8,24))\n",
    "        im3 = cv2.cvtColor(im2,cv2.COLOR_BGR2GRAY)\n",
    "        ret,im3 = cv2.threshold(im3,127,255,cv2.THRESH_BINARY)\n",
    "        im4 = im3.flatten()\n",
    "        x=np.append(x,[im4],axis=0)\n",
    "        y=np.append(y,k)"
   ]
  },
  {
   "cell_type": "code",
   "execution_count": 42,
   "metadata": {},
   "outputs": [
    {
     "data": {
      "text/plain": [
       "(3101,)"
      ]
     },
     "execution_count": 42,
     "metadata": {},
     "output_type": "execute_result"
    }
   ],
   "source": [
    "\n",
    "\n",
    "y.shape"
   ]
  },
  {
   "cell_type": "code",
   "execution_count": 4,
   "metadata": {},
   "outputs": [
    {
     "data": {
      "text/plain": [
       "(350, 256)"
      ]
     },
     "execution_count": 4,
     "metadata": {},
     "output_type": "execute_result"
    }
   ],
   "source": [
    "\n",
    "x.shape"
   ]
  },
  {
   "attachments": {},
   "cell_type": "markdown",
   "metadata": {},
   "source": [
    "ساخت مدل برای تشخیص اعداد"
   ]
  },
  {
   "cell_type": "code",
   "execution_count": 104,
   "metadata": {},
   "outputs": [],
   "source": [
    "from sklearn import linear_model\n",
    "from sklearn.model_selection import train_test_split"
   ]
  },
  {
   "cell_type": "code",
   "execution_count": 105,
   "metadata": {},
   "outputs": [],
   "source": [
    "X_train, X_test, y_train, y_test = train_test_split(x, y, test_size=0.2)"
   ]
  },
  {
   "cell_type": "code",
   "execution_count": 106,
   "metadata": {},
   "outputs": [],
   "source": [
    "\n",
    "model = linear_model.LogisticRegression()"
   ]
  },
  {
   "cell_type": "code",
   "execution_count": 107,
   "metadata": {},
   "outputs": [
    {
     "name": "stderr",
     "output_type": "stream",
     "text": [
      "/Library/Frameworks/Python.framework/Versions/3.8/lib/python3.8/site-packages/sklearn/linear_model/_logistic.py:458: ConvergenceWarning: lbfgs failed to converge (status=1):\n",
      "STOP: TOTAL NO. of ITERATIONS REACHED LIMIT.\n",
      "\n",
      "Increase the number of iterations (max_iter) or scale the data as shown in:\n",
      "    https://scikit-learn.org/stable/modules/preprocessing.html\n",
      "Please also refer to the documentation for alternative solver options:\n",
      "    https://scikit-learn.org/stable/modules/linear_model.html#logistic-regression\n",
      "  n_iter_i = _check_optimize_result(\n"
     ]
    },
    {
     "data": {
      "text/html": [
       "<style>#sk-container-id-6 {color: black;background-color: white;}#sk-container-id-6 pre{padding: 0;}#sk-container-id-6 div.sk-toggleable {background-color: white;}#sk-container-id-6 label.sk-toggleable__label {cursor: pointer;display: block;width: 100%;margin-bottom: 0;padding: 0.3em;box-sizing: border-box;text-align: center;}#sk-container-id-6 label.sk-toggleable__label-arrow:before {content: \"▸\";float: left;margin-right: 0.25em;color: #696969;}#sk-container-id-6 label.sk-toggleable__label-arrow:hover:before {color: black;}#sk-container-id-6 div.sk-estimator:hover label.sk-toggleable__label-arrow:before {color: black;}#sk-container-id-6 div.sk-toggleable__content {max-height: 0;max-width: 0;overflow: hidden;text-align: left;background-color: #f0f8ff;}#sk-container-id-6 div.sk-toggleable__content pre {margin: 0.2em;color: black;border-radius: 0.25em;background-color: #f0f8ff;}#sk-container-id-6 input.sk-toggleable__control:checked~div.sk-toggleable__content {max-height: 200px;max-width: 100%;overflow: auto;}#sk-container-id-6 input.sk-toggleable__control:checked~label.sk-toggleable__label-arrow:before {content: \"▾\";}#sk-container-id-6 div.sk-estimator input.sk-toggleable__control:checked~label.sk-toggleable__label {background-color: #d4ebff;}#sk-container-id-6 div.sk-label input.sk-toggleable__control:checked~label.sk-toggleable__label {background-color: #d4ebff;}#sk-container-id-6 input.sk-hidden--visually {border: 0;clip: rect(1px 1px 1px 1px);clip: rect(1px, 1px, 1px, 1px);height: 1px;margin: -1px;overflow: hidden;padding: 0;position: absolute;width: 1px;}#sk-container-id-6 div.sk-estimator {font-family: monospace;background-color: #f0f8ff;border: 1px dotted black;border-radius: 0.25em;box-sizing: border-box;margin-bottom: 0.5em;}#sk-container-id-6 div.sk-estimator:hover {background-color: #d4ebff;}#sk-container-id-6 div.sk-parallel-item::after {content: \"\";width: 100%;border-bottom: 1px solid gray;flex-grow: 1;}#sk-container-id-6 div.sk-label:hover label.sk-toggleable__label {background-color: #d4ebff;}#sk-container-id-6 div.sk-serial::before {content: \"\";position: absolute;border-left: 1px solid gray;box-sizing: border-box;top: 0;bottom: 0;left: 50%;z-index: 0;}#sk-container-id-6 div.sk-serial {display: flex;flex-direction: column;align-items: center;background-color: white;padding-right: 0.2em;padding-left: 0.2em;position: relative;}#sk-container-id-6 div.sk-item {position: relative;z-index: 1;}#sk-container-id-6 div.sk-parallel {display: flex;align-items: stretch;justify-content: center;background-color: white;position: relative;}#sk-container-id-6 div.sk-item::before, #sk-container-id-6 div.sk-parallel-item::before {content: \"\";position: absolute;border-left: 1px solid gray;box-sizing: border-box;top: 0;bottom: 0;left: 50%;z-index: -1;}#sk-container-id-6 div.sk-parallel-item {display: flex;flex-direction: column;z-index: 1;position: relative;background-color: white;}#sk-container-id-6 div.sk-parallel-item:first-child::after {align-self: flex-end;width: 50%;}#sk-container-id-6 div.sk-parallel-item:last-child::after {align-self: flex-start;width: 50%;}#sk-container-id-6 div.sk-parallel-item:only-child::after {width: 0;}#sk-container-id-6 div.sk-dashed-wrapped {border: 1px dashed gray;margin: 0 0.4em 0.5em 0.4em;box-sizing: border-box;padding-bottom: 0.4em;background-color: white;}#sk-container-id-6 div.sk-label label {font-family: monospace;font-weight: bold;display: inline-block;line-height: 1.2em;}#sk-container-id-6 div.sk-label-container {text-align: center;}#sk-container-id-6 div.sk-container {/* jupyter's `normalize.less` sets `[hidden] { display: none; }` but bootstrap.min.css set `[hidden] { display: none !important; }` so we also need the `!important` here to be able to override the default hidden behavior on the sphinx rendered scikit-learn.org. See: https://github.com/scikit-learn/scikit-learn/issues/21755 */display: inline-block !important;position: relative;}#sk-container-id-6 div.sk-text-repr-fallback {display: none;}</style><div id=\"sk-container-id-6\" class=\"sk-top-container\"><div class=\"sk-text-repr-fallback\"><pre>LogisticRegression()</pre><b>In a Jupyter environment, please rerun this cell to show the HTML representation or trust the notebook. <br />On GitHub, the HTML representation is unable to render, please try loading this page with nbviewer.org.</b></div><div class=\"sk-container\" hidden><div class=\"sk-item\"><div class=\"sk-estimator sk-toggleable\"><input class=\"sk-toggleable__control sk-hidden--visually\" id=\"sk-estimator-id-6\" type=\"checkbox\" checked><label for=\"sk-estimator-id-6\" class=\"sk-toggleable__label sk-toggleable__label-arrow\">LogisticRegression</label><div class=\"sk-toggleable__content\"><pre>LogisticRegression()</pre></div></div></div></div></div>"
      ],
      "text/plain": [
       "LogisticRegression()"
      ]
     },
     "execution_count": 107,
     "metadata": {},
     "output_type": "execute_result"
    }
   ],
   "source": [
    "model.fit(X_train, y_train)"
   ]
  },
  {
   "cell_type": "code",
   "execution_count": 108,
   "metadata": {},
   "outputs": [],
   "source": [
    "out = model.predict(X_test)"
   ]
  },
  {
   "cell_type": "code",
   "execution_count": 109,
   "metadata": {},
   "outputs": [
    {
     "data": {
      "text/plain": [
       "array([2., 2., 6., 6., 9., 9., 8., 4., 9., 5., 5., 5., 6., 1., 7., 5., 5.,\n",
       "       2., 9., 9., 3., 1., 3., 7., 4., 3., 4., 6., 8., 2., 3., 8., 6., 4.,\n",
       "       2., 2., 5., 8., 3., 1., 2., 3., 4., 5., 3., 7., 4., 4., 8., 2., 7.,\n",
       "       9., 3., 1., 7., 5., 1., 6., 2., 9., 6., 9., 9., 4., 1., 3., 6., 5.,\n",
       "       2., 3., 2., 1., 5., 7., 3., 3., 2., 6., 9., 9., 4., 7., 7., 1., 7.,\n",
       "       8., 9., 7., 3., 3., 9., 4., 5., 1., 8., 5., 6., 5., 6., 5., 7., 8.,\n",
       "       4., 7., 2., 5., 7., 6., 3., 5., 8., 4., 1., 1., 5., 4., 5., 8., 4.,\n",
       "       8., 8., 1., 1., 9., 4., 9., 3., 2., 3., 2., 4., 2., 2., 1., 7., 1.,\n",
       "       8., 6., 4., 4., 9., 2., 7., 4., 7., 1., 6., 4., 5., 2., 1., 8., 4.,\n",
       "       7., 7., 3., 4., 4., 3., 3., 5., 2., 1., 7., 8., 6., 3., 8., 1., 1.,\n",
       "       4., 8., 9., 5., 2., 8., 1., 9., 5., 4., 2., 3., 2., 2., 7., 2., 4.,\n",
       "       3., 3., 8., 9., 5., 3., 9., 8., 3., 2., 7., 7., 1., 7., 1., 1., 2.,\n",
       "       4., 6., 4., 8., 9., 8., 9., 3., 1., 4., 4., 5., 6., 3., 7., 3., 3.,\n",
       "       6., 2., 6., 7., 8., 4., 9., 5., 5., 4., 2., 5., 1., 7., 2., 8., 1.,\n",
       "       9., 8., 6., 5., 8., 8., 1., 2., 9., 1., 4., 3., 1., 8., 1., 1., 6.,\n",
       "       1., 8., 2., 2., 9., 6., 5., 7., 9., 7., 8., 9., 3., 5., 8., 1., 8.,\n",
       "       7., 6., 2., 4., 2., 6., 4., 6., 7., 8., 5., 5., 5., 3., 1., 1., 2.,\n",
       "       7., 5., 2., 1., 2., 1., 2., 3., 7., 1., 1., 6., 2., 8., 5., 1., 9.,\n",
       "       6., 2., 1., 1., 1., 9., 9., 7., 5., 2., 8., 5., 1., 4., 7., 6., 2.,\n",
       "       4., 3., 1., 8., 9., 5., 5., 7., 2., 5., 8., 9., 1., 4., 4., 8., 1.,\n",
       "       5., 2., 3., 1., 5., 8., 8., 4., 9., 4., 2., 8., 9., 9., 8., 3., 1.,\n",
       "       4., 8., 9., 2., 2., 2., 9., 3., 3., 7., 5., 9., 9., 2., 9., 8., 1.,\n",
       "       2., 6., 3., 4., 6., 1., 7., 4., 8., 6., 5., 2., 3., 3., 7., 1., 4.,\n",
       "       9., 2., 3., 8., 8., 4., 9., 9., 4., 2., 3., 4., 1., 8., 7., 5., 6.,\n",
       "       8., 1., 6., 9., 5., 2., 5., 1., 3., 9., 1., 5., 8., 8., 2., 1., 6.,\n",
       "       7., 5., 8., 9., 7., 4., 5., 4., 5., 3., 8., 7., 2., 9., 8., 2., 3.,\n",
       "       4., 8., 2., 1., 7., 9., 1., 2., 2., 1., 3., 3., 7., 2., 9., 4., 1.,\n",
       "       6., 2., 4., 4., 2., 2., 1., 5., 6., 3., 9., 3., 3., 9., 5., 6., 5.,\n",
       "       1., 5., 3., 6., 3., 1., 9., 2., 6., 4., 1., 1., 8., 9., 2., 7., 6.,\n",
       "       1., 2., 7., 9., 2., 9., 6., 8., 1., 1., 9., 1., 8., 3., 9., 7., 3.,\n",
       "       9., 3., 1., 9., 6., 3., 6., 1., 9., 9., 8., 7., 7., 3., 4., 3., 2.,\n",
       "       4., 8., 4., 8., 7., 2., 7., 3., 4., 8., 3., 4., 1., 5., 1., 2., 1.,\n",
       "       4., 3., 2., 8., 9., 5., 1., 4., 6., 9., 6., 4., 9., 5., 5., 2., 3.,\n",
       "       1., 7., 7., 4., 9., 6., 5., 2., 8., 1., 9., 1., 1., 7., 9., 2., 6.,\n",
       "       4., 2., 4., 6., 2., 6., 5., 9., 6., 5., 4., 1., 7., 9., 4., 7., 3.,\n",
       "       2., 4., 1., 2., 7., 8., 1., 3., 7., 8., 2., 5., 1., 8., 2., 3., 3.,\n",
       "       9., 3., 4., 3., 4., 1., 5., 5., 8.])"
      ]
     },
     "execution_count": 109,
     "metadata": {},
     "output_type": "execute_result"
    }
   ],
   "source": [
    "out"
   ]
  },
  {
   "cell_type": "code",
   "execution_count": 110,
   "metadata": {},
   "outputs": [
    {
     "data": {
      "text/plain": [
       "array([2., 2., 6., 8., 9., 9., 8., 4., 8., 5., 5., 5., 6., 7., 7., 5., 5.,\n",
       "       2., 9., 1., 3., 7., 4., 7., 1., 4., 3., 9., 8., 2., 2., 5., 6., 4.,\n",
       "       2., 2., 5., 8., 3., 8., 7., 3., 4., 5., 3., 2., 4., 4., 8., 2., 7.,\n",
       "       9., 3., 7., 1., 5., 1., 6., 2., 9., 6., 9., 9., 4., 1., 3., 6., 5.,\n",
       "       2., 3., 2., 1., 5., 7., 3., 3., 2., 6., 9., 9., 4., 7., 3., 1., 7.,\n",
       "       8., 9., 7., 3., 3., 9., 4., 5., 5., 8., 5., 6., 5., 6., 5., 7., 5.,\n",
       "       4., 7., 2., 5., 2., 6., 3., 5., 9., 4., 8., 1., 5., 9., 5., 6., 4.,\n",
       "       3., 8., 1., 1., 9., 4., 9., 3., 2., 3., 2., 4., 3., 2., 1., 7., 1.,\n",
       "       8., 6., 2., 4., 9., 2., 7., 4., 7., 6., 6., 4., 5., 2., 1., 8., 4.,\n",
       "       7., 7., 3., 3., 1., 3., 3., 5., 2., 7., 7., 8., 6., 3., 8., 1., 2.,\n",
       "       6., 8., 9., 9., 9., 8., 1., 2., 8., 4., 2., 3., 2., 5., 5., 2., 3.,\n",
       "       3., 2., 8., 9., 5., 4., 9., 8., 3., 2., 7., 7., 1., 7., 1., 1., 2.,\n",
       "       5., 6., 4., 8., 9., 8., 2., 3., 1., 4., 4., 2., 2., 3., 7., 3., 3.,\n",
       "       6., 4., 6., 7., 8., 4., 9., 5., 5., 4., 9., 5., 1., 7., 2., 8., 1.,\n",
       "       9., 8., 6., 5., 7., 8., 1., 2., 9., 6., 4., 3., 1., 5., 1., 1., 6.,\n",
       "       9., 9., 2., 2., 2., 2., 5., 7., 9., 7., 8., 9., 3., 5., 8., 3., 8.,\n",
       "       8., 6., 7., 3., 2., 1., 6., 8., 3., 8., 5., 5., 5., 3., 2., 1., 3.,\n",
       "       7., 5., 2., 1., 2., 1., 9., 4., 7., 1., 2., 6., 2., 9., 5., 9., 2.,\n",
       "       6., 9., 1., 1., 5., 9., 3., 7., 5., 3., 7., 8., 1., 4., 7., 6., 7.,\n",
       "       4., 2., 9., 8., 9., 5., 5., 7., 2., 2., 8., 9., 1., 1., 6., 8., 1.,\n",
       "       5., 2., 2., 1., 3., 8., 8., 4., 9., 4., 2., 8., 9., 9., 8., 3., 1.,\n",
       "       5., 8., 5., 2., 6., 2., 9., 3., 3., 7., 5., 9., 9., 2., 9., 8., 3.,\n",
       "       2., 6., 3., 4., 6., 1., 2., 4., 8., 6., 5., 2., 3., 3., 7., 1., 4.,\n",
       "       9., 6., 3., 8., 8., 3., 9., 9., 4., 2., 3., 4., 1., 8., 7., 5., 3.,\n",
       "       9., 1., 6., 9., 5., 3., 5., 1., 3., 2., 7., 5., 8., 8., 2., 1., 6.,\n",
       "       7., 5., 8., 9., 7., 4., 5., 4., 5., 4., 8., 7., 2., 9., 8., 2., 6.,\n",
       "       4., 8., 2., 1., 7., 9., 9., 2., 2., 7., 3., 4., 7., 2., 9., 4., 5.,\n",
       "       6., 2., 9., 4., 2., 2., 1., 3., 6., 3., 1., 3., 3., 9., 5., 6., 5.,\n",
       "       1., 5., 8., 6., 3., 1., 9., 2., 2., 4., 8., 1., 8., 9., 7., 7., 6.,\n",
       "       1., 2., 7., 9., 2., 9., 6., 8., 1., 5., 9., 7., 8., 3., 9., 7., 3.,\n",
       "       9., 3., 1., 9., 6., 3., 6., 1., 3., 9., 8., 2., 7., 3., 4., 3., 7.,\n",
       "       4., 8., 4., 8., 7., 2., 7., 3., 4., 8., 3., 4., 1., 5., 1., 7., 9.,\n",
       "       4., 5., 3., 8., 9., 5., 3., 4., 6., 9., 6., 4., 9., 5., 5., 2., 8.,\n",
       "       1., 7., 7., 8., 9., 6., 5., 2., 8., 1., 7., 2., 1., 8., 9., 2., 6.,\n",
       "       6., 2., 4., 1., 2., 6., 5., 9., 6., 5., 6., 6., 7., 1., 4., 7., 8.,\n",
       "       2., 4., 2., 2., 7., 8., 8., 3., 7., 8., 2., 5., 1., 8., 2., 3., 3.,\n",
       "       1., 3., 3., 3., 4., 1., 5., 5., 8.])"
      ]
     },
     "execution_count": 110,
     "metadata": {},
     "output_type": "execute_result"
    }
   ],
   "source": [
    "y_test"
   ]
  },
  {
   "attachments": {},
   "cell_type": "markdown",
   "metadata": {},
   "source": [
    "جلسه دوم پردازش پلاک"
   ]
  },
  {
   "cell_type": "code",
   "execution_count": 111,
   "metadata": {},
   "outputs": [],
   "source": [
    "img_pelak = cv2.imread('pelak.png')\n",
    "img_pelak = cv2.cvtColor(img_pelak,cv2.COLOR_BGR2GRAY)\n",
    "ret,img_pelak = cv2.threshold(img_pelak,127,255,cv2.THRESH_BINARY)"
   ]
  },
  {
   "cell_type": "code",
   "execution_count": 8,
   "metadata": {},
   "outputs": [],
   "source": [
    "img_pelak0 = cv2.imread('pelak.png',0)"
   ]
  },
  {
   "cell_type": "code",
   "execution_count": 9,
   "metadata": {},
   "outputs": [],
   "source": [
    "cv2.imshow('ax',img_pelak0)\n",
    "cv2.waitKey(0)\n",
    "cv2.destroyAllWindows()"
   ]
  },
  {
   "cell_type": "code",
   "execution_count": 10,
   "metadata": {},
   "outputs": [
    {
     "data": {
      "text/plain": [
       "(90, 411)"
      ]
     },
     "execution_count": 10,
     "metadata": {},
     "output_type": "execute_result"
    }
   ],
   "source": [
    "img_pelak0.shape"
   ]
  },
  {
   "cell_type": "code",
   "execution_count": 19,
   "metadata": {},
   "outputs": [],
   "source": [
    "s = 90 - np.sum(img_pelak0,axis=0,keepdims=True)/255"
   ]
  },
  {
   "cell_type": "code",
   "execution_count": 20,
   "metadata": {},
   "outputs": [
    {
     "name": "stdout",
     "output_type": "stream",
     "text": [
      "[7.25490196e-01 1.61568627e+00 2.78823529e+00 4.43921569e+00\n",
      " 4.36470588e+00 3.77254902e+00 4.54117647e+00 7.02745098e+00\n",
      " 9.80392157e+00 1.19607843e+01 1.38941176e+01 1.76196078e+01\n",
      " 2.14392157e+01 2.48078431e+01 2.80549020e+01 3.16392157e+01\n",
      " 3.54274510e+01 4.21294118e+01 5.16313725e+01 5.64745098e+01\n",
      " 5.43882353e+01 5.19647059e+01 4.90470588e+01 4.61254902e+01\n",
      " 4.24392157e+01 3.82078431e+01 3.34666667e+01 2.82156863e+01\n",
      " 2.04980392e+01 7.44705882e+00 1.56862745e-01 0.00000000e+00\n",
      " 0.00000000e+00 0.00000000e+00 0.00000000e+00 0.00000000e+00\n",
      " 0.00000000e+00 0.00000000e+00 0.00000000e+00 0.00000000e+00\n",
      " 0.00000000e+00 0.00000000e+00 0.00000000e+00 0.00000000e+00\n",
      " 0.00000000e+00 0.00000000e+00 0.00000000e+00 0.00000000e+00\n",
      " 0.00000000e+00 2.78431373e-01 1.93725490e+00 5.16862745e+00\n",
      " 8.32549020e+00 1.16117647e+01 1.50784314e+01 1.86313725e+01\n",
      " 2.30196078e+01 2.66509804e+01 3.01607843e+01 3.34705882e+01\n",
      " 3.73882353e+01 4.32901961e+01 5.16549020e+01 5.55254902e+01\n",
      " 5.34470588e+01 5.15450980e+01 5.04039216e+01 4.96431373e+01\n",
      " 4.90588235e+01 4.77960784e+01 4.40274510e+01 3.77019608e+01\n",
      " 2.64549020e+01 1.53254902e+01 1.11294118e+01 1.09490196e+01\n",
      " 1.10745098e+01 1.12313725e+01 1.17333333e+01 1.24549020e+01\n",
      " 1.39803922e+01 1.94156863e+01 2.51568627e+01 2.56078431e+01\n",
      " 2.59960784e+01 2.62627451e+01 2.61960784e+01 2.53803922e+01\n",
      " 2.33058824e+01 1.79568627e+01 6.69019608e+00 2.10196078e+00\n",
      " 6.24705882e+00 1.18313725e+01 1.37176471e+01 1.52588235e+01\n",
      " 1.64627451e+01 1.73450980e+01 1.78627451e+01 1.83450980e+01\n",
      " 1.88627451e+01 1.64745098e+01 1.36549020e+01 1.25411765e+01\n",
      " 1.16666667e+01 1.11529412e+01 1.07176471e+01 1.04117647e+01\n",
      " 1.03333333e+01 1.03333333e+01 1.03333333e+01 1.03333333e+01\n",
      " 1.03333333e+01 1.03333333e+01 1.03333333e+01 1.03333333e+01\n",
      " 1.03333333e+01 1.03333333e+01 1.03333333e+01 1.03333333e+01\n",
      " 1.03333333e+01 1.04039216e+01 1.47372549e+01 1.90941176e+01\n",
      " 1.98627451e+01 1.98627451e+01 1.98627451e+01 1.98627451e+01\n",
      " 1.98627451e+01 1.98627451e+01 1.98627451e+01 1.98627451e+01\n",
      " 1.45411765e+01 1.10313725e+01 1.03333333e+01 1.03333333e+01\n",
      " 1.03333333e+01 1.03333333e+01 1.03333333e+01 1.03333333e+01\n",
      " 1.03333333e+01 1.03333333e+01 1.16117647e+01 1.44941176e+01\n",
      " 1.78509804e+01 2.07058824e+01 2.38862745e+01 2.77882353e+01\n",
      " 2.94549020e+01 2.95960784e+01 2.92941176e+01 2.79803922e+01\n",
      " 2.58274510e+01 2.34980392e+01 2.08352941e+01 1.78117647e+01\n",
      " 1.37176471e+01 3.98823529e+00 0.00000000e+00 0.00000000e+00\n",
      " 0.00000000e+00 0.00000000e+00 5.17647059e-01 4.11372549e+00\n",
      " 7.42745098e+00 1.10980392e+01 1.45843137e+01 1.82941176e+01\n",
      " 2.22784314e+01 2.51921569e+01 2.81254902e+01 3.06509804e+01\n",
      " 3.25647059e+01 3.42313725e+01 3.77137255e+01 4.29137255e+01\n",
      " 5.11529412e+01 5.16470588e+01 5.01019608e+01 4.90352941e+01\n",
      " 4.84313725e+01 4.78000000e+01 4.71725490e+01 4.40156863e+01\n",
      " 4.08235294e+01 4.05764706e+01 3.73921569e+01 2.45686275e+01\n",
      " 2.41803922e+01 2.36627451e+01 2.27058824e+01 2.17058824e+01\n",
      " 2.16627451e+01 2.23176471e+01 1.33803922e+01 1.08156863e+01\n",
      " 9.81568627e+00 9.45490196e+00 9.78823529e+00 1.06745098e+01\n",
      " 1.57647059e+01 2.17372549e+01 2.22117647e+01 2.24313725e+01\n",
      " 2.27725490e+01 2.27686275e+01 2.16666667e+01 1.92274510e+01\n",
      " 1.20392157e+01 1.54117647e+00 0.00000000e+00 0.00000000e+00\n",
      " 5.49019608e-02 1.42745098e+00 5.68627451e+00 1.54352941e+01\n",
      " 2.42039216e+01 2.98784314e+01 3.50745098e+01 3.90549020e+01\n",
      " 4.27058824e+01 4.49647059e+01 4.64980392e+01 4.65058824e+01\n",
      " 4.65686275e+01 4.47411765e+01 4.23607843e+01 4.07921569e+01\n",
      " 3.96392157e+01 3.83803922e+01 3.77372549e+01 3.60313725e+01\n",
      " 3.41215686e+01 3.33686275e+01 3.17058824e+01 3.06000000e+01\n",
      " 2.93098039e+01 2.81019608e+01 2.70823529e+01 2.62000000e+01\n",
      " 2.59529412e+01 2.57450980e+01 2.48901961e+01 2.42627451e+01\n",
      " 2.36313725e+01 2.19098039e+01 1.93803922e+01 1.55921569e+01\n",
      " 1.33882353e+01 1.26274510e+01 1.23960784e+01 1.20156863e+01\n",
      " 1.20117647e+01 1.17019608e+01 1.12039216e+01 1.06549020e+01\n",
      " 9.77647059e+00 7.63921569e+00 3.94901961e+00 1.00000000e+00\n",
      " 0.00000000e+00 0.00000000e+00 1.49019608e-01 2.38823529e+00\n",
      " 1.10000000e+01 1.99294118e+01 2.50784314e+01 2.86745098e+01\n",
      " 3.22235294e+01 3.53529412e+01 3.80117647e+01 4.12392157e+01\n",
      " 4.62470588e+01 4.75764706e+01 4.58705882e+01 4.56901961e+01\n",
      " 4.48509804e+01 4.24196078e+01 3.89803922e+01 3.63019608e+01\n",
      " 3.36862745e+01 3.09921569e+01 2.80470588e+01 2.62549020e+01\n",
      " 2.57686275e+01 2.60313725e+01 2.61098039e+01 2.65098039e+01\n",
      " 2.69176471e+01 2.75686275e+01 2.77294118e+01 2.80156863e+01\n",
      " 2.84470588e+01 2.89647059e+01 2.98313725e+01 3.10039216e+01\n",
      " 3.22235294e+01 3.40901961e+01 3.70901961e+01 3.88313725e+01\n",
      " 3.72823529e+01 3.49372549e+01 3.28431373e+01 3.05254902e+01\n",
      " 2.78117647e+01 2.43882353e+01 2.00901961e+01 1.45568627e+01\n",
      " 5.01568627e+00 2.31372549e-01 0.00000000e+00 0.00000000e+00\n",
      " 0.00000000e+00 1.37647059e+01 5.47058824e+01 9.00000000e+01\n",
      " 9.00000000e+01 6.03529412e+01 1.65568627e+01 0.00000000e+00\n",
      " 0.00000000e+00 0.00000000e+00 0.00000000e+00 0.00000000e+00\n",
      " 0.00000000e+00 0.00000000e+00 2.41176471e+00 8.87843137e+00\n",
      " 1.56705882e+01 1.69490196e+01 1.57294118e+01 1.66039216e+01\n",
      " 1.98549020e+01 2.33568627e+01 2.64196078e+01 3.06980392e+01\n",
      " 3.42274510e+01 3.59725490e+01 3.78274510e+01 3.99686275e+01\n",
      " 4.52627451e+01 5.19882353e+01 5.44078431e+01 5.26274510e+01\n",
      " 5.50313725e+01 5.66470588e+01 5.35882353e+01 4.59843137e+01\n",
      " 3.70980392e+01 3.19019608e+01 2.79176471e+01 2.17647059e+01\n",
      " 8.17254902e+00 8.72941176e+00 1.32509804e+01 1.31843137e+01\n",
      " 3.12549020e+00 0.00000000e+00 5.49019608e-02 1.37254902e-01\n",
      " 2.00000000e-01 6.94117647e-01 2.51372549e+00 4.66666667e+00\n",
      " 6.20000000e+00 6.96078431e+00 6.49803922e+00 6.21176471e+00\n",
      " 6.41960784e+00 6.21176471e+00 8.96470588e+00 1.18039216e+01\n",
      " 1.22117647e+01 1.02901961e+01 6.04705882e+00 5.81960784e+00\n",
      " 8.68235294e+00 1.17960784e+01 1.48588235e+01 1.82862745e+01\n",
      " 2.17019608e+01 2.61529412e+01 3.05333333e+01 3.37803922e+01\n",
      " 3.45490196e+01 3.45490196e+01 3.73843137e+01 4.34117647e+01\n",
      " 5.12431373e+01 5.93372549e+01 6.03294118e+01 5.49647059e+01\n",
      " 4.71568627e+01 4.43490196e+01 4.17843137e+01 3.90549020e+01\n",
      " 3.49098039e+01 3.59686275e+01 3.90313725e+01 3.30078431e+01\n",
      " 1.13137255e+01 3.29411765e-01 0.00000000e+00 0.00000000e+00\n",
      " 0.00000000e+00 0.00000000e+00 0.00000000e+00 0.00000000e+00\n",
      " 0.00000000e+00 0.00000000e+00 0.00000000e+00]\n"
     ]
    }
   ],
   "source": [
    "print(s[0])"
   ]
  },
  {
   "cell_type": "code",
   "execution_count": 21,
   "metadata": {},
   "outputs": [
    {
     "data": {
      "application/vnd.jupyter.widget-view+json": {
       "model_id": "1337cd6ab48a43bcaa9f095816c5747c",
       "version_major": 2,
       "version_minor": 0
      },
      "image/png": "[encoded data removed]",
      "text/html": [
       "\n",
       "            <div style=\"display: inline-block;\">\n",
       "                <div class=\"jupyter-widgets widget-label\" style=\"text-align: center;\">\n",
       "                    Figure\n",
       "                </div>\n",
       "                <img src='data:image/png;base64,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' width=640.0/>\n",
       "            </div>\n",
       "        "
      ],
      "text/plain": [
       "Canvas(toolbar=Toolbar(toolitems=[('Home', 'Reset original view', 'home', 'home'), ('Back', 'Back to previous …"
      ]
     },
     "metadata": {},
     "output_type": "display_data"
    }
   ],
   "source": [
    "plt.close()\n",
    "plt.plot(s[0])\n",
    "plt.show()"
   ]
  },
  {
   "cell_type": "code",
   "execution_count": 26,
   "metadata": {},
   "outputs": [],
   "source": [
    "pelak = img_pelak0.copy()\n",
    "\n",
    "pelak = cv2.line(pelak,(160,0),(160,90),(0,0,0),1)\n",
    "\n",
    "cv2.imshow('ax',pelak)\n",
    "cv2.waitKey(0)\n",
    "cv2.destroyAllWindows()"
   ]
  },
  {
   "cell_type": "code",
   "execution_count": 114,
   "metadata": {},
   "outputs": [
    {
     "name": "stdout",
     "output_type": "stream",
     "text": [
      "[9.]\n",
      "[3.]\n",
      "[5.]\n",
      "[3.]\n",
      "[6.]\n",
      "[5.]\n",
      "[4.]\n",
      "[1.]\n",
      "[9.]\n"
     ]
    }
   ],
   "source": [
    "img_pelak = cv2.imread('pelak.png')\n",
    "ret,img_pelak = cv2.threshold(img_pelak,127,255,cv2.THRESH_BINARY)\n",
    "\n",
    "pelak = img_pelak0.copy()\n",
    "xi = 0\n",
    "xi1 = 0\n",
    "xi2 = 0\n",
    "\n",
    "\n",
    "flag1 = False\n",
    "flag2 = False\n",
    "\n",
    "\n",
    "for i in s[0]:\n",
    "    xi += 1\n",
    "\n",
    "    if i > 9 and flag1==True and flag2 == False:\n",
    "        \n",
    "        flag2 = True\n",
    "\n",
    "    if i < 5:\n",
    "        cv2.line(pelak,(xi,0),(xi,90),(0,0,0),1)\n",
    "        \n",
    "        if flag1 == False:\n",
    "            xi1 = xi\n",
    "        \n",
    "        if flag2 == True:\n",
    "            xi2 = xi\n",
    "            flag2 = False\n",
    "            flag1 = False\n",
    "            img1 = img_pelak[:,xi1:xi2]\n",
    "            \n",
    "            x1 = np.empty((0,192))\n",
    "            im2 = cv2.resize(img1,(8,24))\n",
    "            im3 = cv2.cvtColor(im2,cv2.COLOR_BGR2GRAY)\n",
    "            im4 = im3.flatten()\n",
    "            x1 = np.append(x1,[im4],axis=0)\n",
    "            natije = model.predict(x1)\n",
    "            print(natije)\n",
    "            \n",
    "            \n",
    "            cv2.imshow('ax',img1)\n",
    "            cv2.waitKey(0)\n",
    "            cv2.destroyAllWindows()\n",
    "\n",
    "            xi1 = xi2\n",
    "\n",
    "        flag1 = True\n",
    "\n"
   ]
  }
 ],
 "metadata": {
  "kernelspec": {
   "display_name": "Python 3",
   "language": "python",
   "name": "python3"
  },
  "language_info": {
   "codemirror_mode": {
    "name": "ipython",
    "version": 3
   },
   "file_extension": ".py",
   "mimetype": "text/x-python",
   "name": "python",
   "nbconvert_exporter": "python",
   "pygments_lexer": "ipython3",
   "version": "3.8.8"
  },
  "orig_nbformat": 4
 },
 "nbformat": 4,
 "nbformat_minor": 2
}
